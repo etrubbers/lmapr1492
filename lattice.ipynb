{
 "cells": [
  {
   "cell_type": "code",
   "execution_count": 9,
   "id": "cellular-cincinnati",
   "metadata": {},
   "outputs": [],
   "source": [
    "from pymatgen.ext.matproj import MPRester\n",
    "from pymatgen import Structure\n",
    "from jupyter_jsmol.pymatgen import quick_view\n",
    "from pymatgen.symmetry.analyzer import SpacegroupAnalyzer"
   ]
  },
  {
   "cell_type": "code",
   "execution_count": 10,
   "id": "bound-moore",
   "metadata": {},
   "outputs": [],
   "source": [
    "with MPRester(\"TnDJGCQnzv8uX3Ao\") as m:\n",
    "\n",
    "    # Structure for material id\n",
    "    structure = m.get_structure_by_material_id(\"mp-985829\")\n",
    "#structure = Structure.from_file(\"HfS2_symmetrized.cif\")\n",
    "sga_s = SpacegroupAnalyzer(structure)"
   ]
  },
  {
   "cell_type": "code",
   "execution_count": 11,
   "id": "dressed-benchmark",
   "metadata": {},
   "outputs": [
    {
     "data": {
      "application/vnd.jupyter.widget-view+json": {
       "model_id": "305a4d13149947daa368c54633bad832",
       "version_major": 2,
       "version_minor": 0
      },
      "text/plain": [
       "JsmolView(layout=Layout(align_self='stretch', height='400px'))"
      ]
     },
     "metadata": {},
     "output_type": "display_data"
    }
   ],
   "source": [
    "view = quick_view(structure)\n",
    "display(view)"
   ]
  },
  {
   "cell_type": "code",
   "execution_count": 12,
   "id": "first-convert",
   "metadata": {},
   "outputs": [
    {
     "name": "stdout",
     "output_type": "stream",
     "text": [
      "Les vecteurs de base du réseau direct :\n",
      "1.821683 -3.155247 0.000000\n",
      "1.821683 3.155247 0.000000\n",
      "0.000000 0.000000 6.584458\n"
     ]
    }
   ],
   "source": [
    "print(\"Les vecteurs de base du réseau direct :\")\n",
    "print(structure.lattice)"
   ]
  },
  {
   "cell_type": "code",
   "execution_count": 13,
   "id": "radical-sending",
   "metadata": {},
   "outputs": [
    {
     "name": "stdout",
     "output_type": "stream",
     "text": [
      "Les vecteurs de base du réseau réciproque :\n",
      "1.724555 -0.995672 0.000000\n",
      "1.724555 0.995672 0.000000\n",
      "0.000000 0.000000 0.954245\n"
     ]
    }
   ],
   "source": [
    "print(\"Les vecteurs de base du réseau réciproque :\")\n",
    "print(structure.lattice.reciprocal_lattice)"
   ]
  },
  {
   "cell_type": "code",
   "execution_count": 14,
   "id": "following-granny",
   "metadata": {},
   "outputs": [
    {
     "name": "stdout",
     "output_type": "stream",
     "text": [
      "Type de maille :\n",
      "hexagonal\n"
     ]
    }
   ],
   "source": [
    "print(\"Type de maille :\")\n",
    "print(sga_s.get_lattice_type())"
   ]
  },
  {
   "cell_type": "code",
   "execution_count": 15,
   "id": "imperial-count",
   "metadata": {},
   "outputs": [
    {
     "name": "stdout",
     "output_type": "stream",
     "text": [
      "Système cristallin :\n",
      "trigonal\n"
     ]
    }
   ],
   "source": [
    "print(\"Système cristallin :\")\n",
    "print(sga_s.get_crystal_system())"
   ]
  },
  {
   "cell_type": "code",
   "execution_count": 16,
   "id": "precious-interest",
   "metadata": {},
   "outputs": [
    {
     "name": "stdout",
     "output_type": "stream",
     "text": [
      "Groupe ponctuel :\n",
      "-3m\n"
     ]
    }
   ],
   "source": [
    "print(\"Groupe ponctuel :\")\n",
    "print(sga_s.get_point_group_symbol())"
   ]
  },
  {
   "cell_type": "code",
   "execution_count": null,
   "id": "material-orleans",
   "metadata": {},
   "outputs": [],
   "source": []
  }
 ],
 "metadata": {
  "kernelspec": {
   "display_name": "Python 3",
   "language": "python",
   "name": "python3"
  },
  "language_info": {
   "codemirror_mode": {
    "name": "ipython",
    "version": 3
   },
   "file_extension": ".py",
   "mimetype": "text/x-python",
   "name": "python",
   "nbconvert_exporter": "python",
   "pygments_lexer": "ipython3",
   "version": "3.6.8"
  }
 },
 "nbformat": 4,
 "nbformat_minor": 5
}
